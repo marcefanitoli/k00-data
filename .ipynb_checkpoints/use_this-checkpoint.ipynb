{
 "cells": [
  {
   "cell_type": "code",
   "execution_count": null,
   "metadata": {},
   "outputs": [],
   "source": [
    "from quick_model import quick_model\n",
    "\n",
    "# instantiate class\n",
    "model = quick_model(test_size=.2, silent=True)\n",
    "parameters = {\n",
    "            'objective': 'binary',\n",
    "            'metric': 'auc',\n",
    "            'is_unbalance': 'true',\n",
    "            'boosting': 'gbdt',\n",
    "            'num_leaves': 2,\n",
    "            'feature_fraction': 0.5,\n",
    "            'bagging_fraction': 0.5,\n",
    "            'bagging_freq': 20,\n",
    "            'learning_rate': 0.05,\n",
    "            'max_depth': 2,\n",
    "            'verbose': 4,\n",
    "            'min_data_in_leaf': 20\n",
    "        }\n",
    "# count from 2 to 20 by 2s (not inclusive of end)\n",
    "num_leaves_valid_values = range(2,20,2)\n",
    "max_depth_valid_values = range(2,20,2)\n",
    "min_data_in_leaf_valid_values = range(2,60,5)\n",
    "size_valid_values = range(10,60,5)\n",
    "\n",
    "\n",
    "for min_data_in_leaf_value in min_data_in_leaf_valid_values:\n",
    "    for max_depth_value in max_depth_valid_values:\n",
    "        for num_leaves_value in num_leaves_valid_values:\n",
    "            for size in size_valid_values:\n",
    "                model = quick_model(test_size=size/100, silent=True)\n",
    "                parameters[\"num_leaves\"] = num_leaves_value\n",
    "                parameters[\"max_depth\"] = max_depth_value\n",
    "                parameters[\"min_data_in_leaf\"] = min_data_in_leaf_value\n",
    "                # run model (set save_graph to false if you don't have dot)\n",
    "                try:\n",
    "                    _ = model.run_model(num_boost_round=5000, early_stopping_rounds=100, parameters=parameters, save_graph=True)\n",
    "                except:\n",
    "                    pass"
   ]
  },
  {
   "cell_type": "code",
   "execution_count": null,
   "metadata": {},
   "outputs": [],
   "source": [
    "from quick_model import quick_model\n",
    "\n",
    "# instantiate class\n",
    "model = quick_model(test_size=.2, silent=True)\n",
    "parameters = {\n",
    "            'objective': 'binary',\n",
    "            'metric': 'auc',\n",
    "            'is_unbalance': 'true',\n",
    "            'boosting': 'gbdt',\n",
    "            'num_leaves': 2,\n",
    "            'feature_fraction': 0.5,\n",
    "            'bagging_fraction': 0.5,\n",
    "            'bagging_freq': 20,\n",
    "            'learning_rate': 0.05,\n",
    "            'max_depth': 2,\n",
    "            'verbose': 4,\n",
    "            'min_data_in_leaf': 20\n",
    "        }\n",
    "\n",
    "\n",
    "parameters[\"num_leaves\"] = 2\n",
    "parameters[\"max_depth\"] = 2\n",
    "parameters[\"min_data_in_leaf\"] = 20\n",
    "# run model (set save_graph to false if you don't have dot)\n",
    "_ = model.run_model(num_boost_round=5000, early_stopping_rounds=10, parameters=parameters, save_graph=True)\n"
   ]
  },
  {
   "cell_type": "code",
   "execution_count": null,
   "metadata": {},
   "outputs": [],
   "source": [
    "for a in range(2,60,5):\n",
    "    print(a)"
   ]
  }
 ],
 "metadata": {
  "kernelspec": {
   "display_name": "Python 3",
   "language": "python",
   "name": "python3"
  },
  "language_info": {
   "codemirror_mode": {
    "name": "ipython",
    "version": 3
   },
   "file_extension": ".py",
   "mimetype": "text/x-python",
   "name": "python",
   "nbconvert_exporter": "python",
   "pygments_lexer": "ipython3",
   "version": "3.7.3"
  }
 },
 "nbformat": 4,
 "nbformat_minor": 2
}
