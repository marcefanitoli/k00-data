{
 "cells": [
  {
   "cell_type": "code",
   "execution_count": 4,
   "metadata": {},
   "outputs": [],
   "source": [
    "# Create first network with Keras\n",
    "from keras.models import Sequential\n",
    "from keras.layers import Dense\n",
    "import numpy\n",
    "import os\n",
    "# fix random seed for reproducibility\n",
    "seed = 7\n",
    "numpy.random.seed(seed)\n",
    "# load pima indians dataset\n",
    "dataset = numpy.loadtxt('train.csv', skiprows=1, delimiter=\",\")\n",
    "datatest = numpy.loadtxt('test.csv', skiprows=1, delimiter=\",\")\n",
    "# split into input (X) and output (Y) variables\n",
    "X = dataset[:,2:203]\n",
    "Y = dataset[:,1]\n",
    "X_test = datatest[:,1:202]"
   ]
  },
  {
   "cell_type": "code",
   "execution_count": 10,
   "metadata": {},
   "outputs": [
    {
     "name": "stdout",
     "output_type": "stream",
     "text": [
      "Epoch 1/10\n",
      " - 13s - loss: 0.2648 - acc: 0.9043\n",
      "Epoch 2/10\n",
      " - 13s - loss: 0.2529 - acc: 0.9078\n",
      "Epoch 3/10\n",
      " - 13s - loss: 0.2495 - acc: 0.9086\n",
      "Epoch 4/10\n",
      " - 13s - loss: 0.2475 - acc: 0.9095\n",
      "Epoch 5/10\n",
      " - 13s - loss: 0.2471 - acc: 0.9097\n",
      "Epoch 6/10\n",
      " - 13s - loss: 0.2452 - acc: 0.9107\n",
      "Epoch 7/10\n",
      " - 13s - loss: 0.2451 - acc: 0.9104\n",
      "Epoch 8/10\n",
      " - 13s - loss: 0.2443 - acc: 0.9107\n",
      "Epoch 9/10\n",
      " - 14s - loss: 0.2441 - acc: 0.9106\n",
      "Epoch 10/10\n",
      " - 13s - loss: 0.2437 - acc: 0.9109\n"
     ]
    },
    {
     "data": {
      "text/plain": [
       "<keras.callbacks.History at 0x2d91b908>"
      ]
     },
     "execution_count": 10,
     "metadata": {},
     "output_type": "execute_result"
    }
   ],
   "source": [
    "# create model\n",
    "model = Sequential()\n",
    "model.add(Dense(80, input_dim=200, activation=\"relu\", kernel_initializer=\"uniform\"))\n",
    "model.add(Dense(20, activation=\"relu\", kernel_initializer=\"uniform\"))\n",
    "model.add(Dense(8, activation=\"relu\", kernel_initializer=\"uniform\"))\n",
    "model.add(Dense(1, activation=\"sigmoid\", kernel_initializer=\"uniform\"))\n",
    "# Compile model\n",
    "model.compile(loss='binary_crossentropy', optimizer='adam', metrics=['accuracy'])\n",
    "# Fit the model\n",
    "model.fit(X, Y, epochs=10, batch_size=10,  verbose=2)"
   ]
  },
  {
   "cell_type": "code",
   "execution_count": 11,
   "metadata": {},
   "outputs": [],
   "source": [
    "# calculate predictions\n",
    "predictions = model.predict(X_test)\n",
    "# round predictions\n",
    "rounded = [round(x[0]) for x in predictions]\n",
    "with open(\"possible_result.csv\", \"w\") as file:\n",
    "    for _ in rounded:\n",
    "        file.write(str(_) + \"\\n\")"
   ]
  },
  {
   "cell_type": "code",
   "execution_count": null,
   "metadata": {},
   "outputs": [],
   "source": []
  }
 ],
 "metadata": {
  "kernelspec": {
   "display_name": "Python 3",
   "language": "python",
   "name": "python3"
  },
  "language_info": {
   "codemirror_mode": {
    "name": "ipython",
    "version": 3
   },
   "file_extension": ".py",
   "mimetype": "text/x-python",
   "name": "python",
   "nbconvert_exporter": "python",
   "pygments_lexer": "ipython3",
   "version": "3.7.3"
  }
 },
 "nbformat": 4,
 "nbformat_minor": 2
}
